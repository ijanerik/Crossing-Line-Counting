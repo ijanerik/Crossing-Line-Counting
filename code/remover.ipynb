{
 "cells": [
  {
   "cell_type": "code",
   "execution_count": 1,
   "metadata": {},
   "outputs": [],
   "source": [
    "\n",
    "from glob import glob\n",
    "import re"
   ]
  },
  {
   "cell_type": "code",
   "execution_count": 6,
   "metadata": {},
   "outputs": [
    {
     "name": "stdout",
     "output_type": "stream",
     "text": [
      "cc_on_pwc\t\t  full_on_pwc\tremover.ipynb\r\n",
      "CSRNet\t\t\t  gram.py\tresults\r\n",
      "data\t\t\t  __init__.py\tresults.ipynb\r\n",
      "datasets\t\t  labeler\trun_spreadsheet.py\r\n",
      "DDFlow\t\t\t  LOI.py\ttesting.txt\r\n",
      "DDFlow_pytorch\t\t  LOI.pyc\tthesis-loi-288313-328c2d373141.json\r\n",
      "DRNet\t\t\t  main.py\tutils.py\r\n",
      "DRNet_pytorch\t\t  multi_run.sh\tutils.pyc\r\n",
      "finishing_spreadsheet.py  preprocess\tv2_compare.ipynb\r\n",
      "FlowNetPytorch\t\t  __pycache__\tvideo-to-traffic-flow-information\r\n"
     ]
    }
   ],
   "source": []
  },
  {
   "cell_type": "code",
   "execution_count": 2,
   "metadata": {},
   "outputs": [],
   "source": [
    "from datasets import basic_entities"
   ]
  },
  {
   "cell_type": "code",
   "execution_count": 3,
   "metadata": {},
   "outputs": [],
   "source": [
    "def compile_to_frame_obj(dictio, load_labels=True):\n",
    "    frame = basic_entities.BasicFrame(dictio['png'])\n",
    "    if load_labels == True:\n",
    "        with open(dictio['csv']) as f:\n",
    "            lines = [line.rstrip() for line in f]\n",
    "            \n",
    "        if len(lines) > 1:\n",
    "            for line in lines[1:]:\n",
    "                coords = line.split(',')\n",
    "                frame.add_point((int(coords[0]), int(coords[1])))\n",
    "    return frame"
   ]
  },
  {
   "cell_type": "code",
   "execution_count": 4,
   "metadata": {},
   "outputs": [
    {
     "name": "stdout",
     "output_type": "stream",
     "text": [
      "[<datasets.basic_entities.BasicVideo object at 0x7feaa85c6970>, <datasets.basic_entities.BasicVideo object at 0x7fea9a108280>, <datasets.basic_entities.BasicVideo object at 0x7fea9830ef40>]\n"
     ]
    }
   ],
   "source": [
    "def load_videos(base_path, load_labels=True):\n",
    "    png_regex = re.compile('(.*)\\/([0-9]+)-([0-9]{10}).([0-9]+).png\\Z')\n",
    "    csv_regex = re.compile('(.*)\\/([0-9]+)-([0-9]{10})([0-9]+)-tags.csv\\Z')\n",
    "    frame_dict = {}\n",
    "    for file in glob('{}*'.format(base_path)):\n",
    "        png_match = png_regex.match(file)\n",
    "        csv_match = csv_regex.match(file)\n",
    "        if csv_match is not None:\n",
    "            frame_number = int(csv_match.group(2))\n",
    "            uid = int(csv_match.group(3))\n",
    "        elif png_match is not None:\n",
    "            frame_number = int(png_match.group(2))\n",
    "            uid = int(png_match.group(3))\n",
    "        else:\n",
    "            print(\"Nothing!!! Something went wrong!!\")\n",
    "            print(file)\n",
    "            break\n",
    "\n",
    "        if frame_number not in frame_dict:\n",
    "            frame_dict[frame_number] = {}\n",
    "\n",
    "        if uid not in frame_dict[frame_number]:\n",
    "            frame_dict[frame_number][uid] = {}\n",
    "\n",
    "        if csv_match is not None:\n",
    "            frame_dict[frame_number][uid]['csv'] = file\n",
    "        elif png_match is not None:\n",
    "            frame_dict[frame_number][uid]['png'] = file\n",
    "\n",
    "\n",
    "    frame_numbers = sorted(list(frame_dict.keys()))\n",
    "    videos = []\n",
    "    for begin_frame in frame_dict[0]:\n",
    "        video = basic_entities.BasicVideo(\n",
    "            png_regex.match(frame_dict[0][begin_frame]['png']).group(1),\n",
    "            load_labels\n",
    "        )\n",
    "\n",
    "        for frame_num in frame_numbers:\n",
    "            added = False\n",
    "            for i in range(-20, 2):\n",
    "                if begin_frame+frame_num+i in frame_dict[frame_num]:\n",
    "                    added = True\n",
    "                    video.add_frame(compile_to_frame_obj(\n",
    "                        frame_dict[frame_num][begin_frame+frame_num+i],\n",
    "                        load_labels\n",
    "                    ))\n",
    "                    break\n",
    "\n",
    "            if added == False:\n",
    "                break\n",
    "        videos.append(video)\n",
    "        \n",
    "    return videos\n",
    "print(load_videos('data/AmsterdamPeds/'))"
   ]
  },
  {
   "cell_type": "code",
   "execution_count": null,
   "metadata": {},
   "outputs": [],
   "source": []
  },
  {
   "cell_type": "code",
   "execution_count": null,
   "metadata": {},
   "outputs": [],
   "source": []
  }
 ],
 "metadata": {
  "kernelspec": {
   "display_name": "Python 3",
   "language": "python",
   "name": "python3"
  },
  "language_info": {
   "codemirror_mode": {
    "name": "ipython",
    "version": 3
   },
   "file_extension": ".py",
   "mimetype": "text/x-python",
   "name": "python",
   "nbconvert_exporter": "python",
   "pygments_lexer": "ipython3",
   "version": "3.8.3"
  }
 },
 "nbformat": 4,
 "nbformat_minor": 4
}
