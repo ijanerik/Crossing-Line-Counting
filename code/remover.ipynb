{
 "cells": [
  {
   "cell_type": "code",
   "execution_count": 1,
   "metadata": {},
   "outputs": [],
   "source": [
    "\n",
    "from glob import glob\n",
    "import re"
   ]
  },
  {
   "cell_type": "code",
   "execution_count": 6,
   "metadata": {},
   "outputs": [
    {
     "name": "stdout",
     "output_type": "stream",
     "text": [
      "cc_on_pwc\t\t  full_on_pwc\tremover.ipynb\r\n",
      "CSRNet\t\t\t  gram.py\tresults\r\n",
      "data\t\t\t  __init__.py\tresults.ipynb\r\n",
      "datasets\t\t  labeler\trun_spreadsheet.py\r\n",
      "DDFlow\t\t\t  LOI.py\ttesting.txt\r\n",
      "DDFlow_pytorch\t\t  LOI.pyc\tthesis-loi-288313-328c2d373141.json\r\n",
      "DRNet\t\t\t  main.py\tutils.py\r\n",
      "DRNet_pytorch\t\t  multi_run.sh\tutils.pyc\r\n",
      "finishing_spreadsheet.py  preprocess\tv2_compare.ipynb\r\n",
      "FlowNetPytorch\t\t  __pycache__\tvideo-to-traffic-flow-information\r\n"
     ]
    }
   ],
   "source": []
  },
  {
   "cell_type": "code",
   "execution_count": 2,
   "metadata": {},
   "outputs": [],
   "source": [
    "from datasets import basic_entities"
   ]
  },
  {
   "cell_type": "code",
   "execution_count": 3,
   "metadata": {},
   "outputs": [],
   "source": [
    "def compile_to_frame_obj(dictio, load_labels=True):\n",
    "    frame = basic_entities.BasicFrame(dictio['png'])\n",
    "    if load_labels == True:\n",
    "        with open(dictio['csv']) as f:\n",
    "            lines = [line.rstrip() for line in f]\n",
    "            \n",
    "        if len(lines) > 1:\n",
    "            for line in lines[1:]:\n",
    "                coords = line.split(',')\n",
    "                frame.add_point((int(coords[0]), int(coords[1])))\n",
    "    return frame"
   ]
  },
  {
   "cell_type": "code",
   "execution_count": 4,
   "metadata": {},
   "outputs": [
    {
     "name": "stdout",
     "output_type": "stream",
     "text": [
      "[<datasets.basic_entities.BasicVideo object at 0x7feaa85c6970>, <datasets.basic_entities.BasicVideo object at 0x7fea9a108280>, <datasets.basic_entities.BasicVideo object at 0x7fea9830ef40>]\n"
     ]
    }
   ],
   "source": [
    "def load_videos(base_path, load_labels=True):\n",
    "    png_regex = re.compile('(.*)\\/([0-9]+)-([0-9]{10}).([0-9]+).png\\Z')\n",
    "    csv_regex = re.compile('(.*)\\/([0-9]+)-([0-9]{10})([0-9]+)-tags.csv\\Z')\n",
    "    frame_dict = {}\n",
    "    for file in glob('{}*'.format(base_path)):\n",
    "        png_match = png_regex.match(file)\n",
    "        csv_match = csv_regex.match(file)\n",
    "        if csv_match is not None:\n",
    "            frame_number = int(csv_match.group(2))\n",
    "            uid = int(csv_match.group(3))\n",
    "        elif png_match is not None:\n",
    "            frame_number = int(png_match.group(2))\n",
    "            uid = int(png_match.group(3))\n",
    "        else:\n",
    "            print(\"Nothing!!! Something went wrong!!\")\n",
    "            print(file)\n",
    "            break\n",
    "\n",
    "        if frame_number not in frame_dict:\n",
    "            frame_dict[frame_number] = {}\n",
    "\n",
    "        if uid not in frame_dict[frame_number]:\n",
    "            frame_dict[frame_number][uid] = {}\n",
    "\n",
    "        if csv_match is not None:\n",
    "            frame_dict[frame_number][uid]['csv'] = file\n",
    "        elif png_match is not None:\n",
    "            frame_dict[frame_number][uid]['png'] = file\n",
    "\n",
    "\n",
    "    frame_numbers = sorted(list(frame_dict.keys()))\n",
    "    videos = []\n",
    "    for begin_frame in frame_dict[0]:\n",
    "        video = basic_entities.BasicVideo(\n",
    "            png_regex.match(frame_dict[0][begin_frame]['png']).group(1),\n",
    "            load_labels\n",
    "        )\n",
    "\n",
    "        for frame_num in frame_numbers:\n",
    "            added = False\n",
    "            for i in range(-20, 2):\n",
    "                if begin_frame+frame_num+i in frame_dict[frame_num]:\n",
    "                    added = True\n",
    "                    video.add_frame(compile_to_frame_obj(\n",
    "                        frame_dict[frame_num][begin_frame+frame_num+i],\n",
    "                        load_labels\n",
    "                    ))\n",
    "                    break\n",
    "\n",
    "            if added == False:\n",
    "                break\n",
    "        videos.append(video)\n",
    "        \n",
    "    return videos\n",
    "print(load_videos('data/AmsterdamPeds/'))"
   ]
  },
  {
   "cell_type": "code",
   "execution_count": 18,
   "metadata": {},
   "outputs": [
    {
     "name": "stdout",
     "output_type": "stream",
     "text": [
      "[((83, 166), (100, 200)), ((66, 133), (83, 166)), ((50, 100), (66, 133)), ((33, 66), (50, 100)), ((16, 33), (33, 66)), ((0, 0), (16, 33))]\n",
      "6\n"
     ]
    }
   ],
   "source": [
    "\n",
    "import numpy as np\n",
    "import math\n",
    "\n",
    "dot1 = [0,0]\n",
    "dot2 = [100, 200]\n",
    "regions = 6\n",
    "d_width = 20\n",
    "d_height = 30\n",
    "\n",
    "\n",
    "height_region = d_width\n",
    "region_lines = []\n",
    "line_points = np.linspace(np.array(dot1), np.array(dot2), num=regions+1).astype(int)\n",
    "for i, point in enumerate(line_points):\n",
    "    if i + 1 >= len(line_points):\n",
    "        break\n",
    "\n",
    "    point2 = line_points[i + 1]\n",
    "    region_lines.append((tuple(list(point)),  tuple(list(point2))))\n",
    "region_lines.reverse()\n",
    "\n",
    "print(region_lines)\n",
    "print(len(region_lines))"
   ]
  },
  {
   "cell_type": "code",
   "execution_count": 27,
   "metadata": {},
   "outputs": [
    {
     "name": "stdout",
     "output_type": "stream",
     "text": [
      "[((96.95742752749558, 193.91485505499116), (100.0, 200.0)), ((83.54101966249685, 167.0820393249937), (96.95742752749558, 193.91485505499116)), ((70.12461179749812, 140.24922359499624), (83.54101966249685, 167.0820393249937)), ((56.70820393249938, 113.41640786499876), (70.12461179749812, 140.24922359499624)), ((43.291796067500634, 86.58359213500127), (56.70820393249938, 113.41640786499876)), ((29.875388202501895, 59.75077640500379), (43.291796067500634, 86.58359213500127)), ((16.458980337503156, 32.91796067500631), (29.875388202501895, 59.75077640500379)), ((3.0425724725044176, 6.085144945008835), (16.458980337503156, 32.91796067500631)), ((0.0, 0.0), (3.0425724725044176, 6.085144945008835))]\n",
      "9\n"
     ]
    }
   ],
   "source": [
    "height_region = d_width\n",
    "width_region = d_height\n",
    "\n",
    "line_length = math.sqrt(math.pow(dot1[0]-dot2[0], 2)+math.pow(dot1[1]-dot2[1], 2))\n",
    "a_regions = math.floor(line_length / width_region)\n",
    "side_perc = (1.0 - a_regions*width_region/line_length) / 2\n",
    "\n",
    "inner_points = list(np.linspace(side_perc, 1.-side_perc, num=a_regions+1).astype(float))\n",
    "inner_points.insert(0, 0.0)\n",
    "inner_points.append(1.0)\n",
    "line_points = []\n",
    "for point_multi in inner_points:\n",
    "    line_points.append((np.array(dot1) + point_multi*(np.array(dot2) - np.array(dot1))))\n",
    "        \n",
    "region_lines = []\n",
    "for i, point in enumerate(line_points):\n",
    "    if i + 1 >= len(line_points):\n",
    "        break\n",
    "\n",
    "    point2 = line_points[i + 1]\n",
    "    region_lines.append((tuple(list(point)),  tuple(list(point2))))\n",
    "\n",
    "region_lines.reverse()\n",
    "print(region_lines)\n",
    "print(len(region_lines))"
   ]
  },
  {
   "cell_type": "code",
   "execution_count": 30,
   "metadata": {},
   "outputs": [
    {
     "data": {
      "text/plain": [
       "29.999999999999986"
      ]
     },
     "execution_count": 30,
     "metadata": {},
     "output_type": "execute_result"
    }
   ],
   "source": [
    "from scipy.spatial import distance\n",
    "distance.euclidean(np.array(region_lines[1][0]), np.array(region_lines[1][1]))"
   ]
  },
  {
   "cell_type": "code",
   "execution_count": 29,
   "metadata": {},
   "outputs": [
    {
     "data": {
      "text/plain": [
       "array([[ 96.95742753, 193.91485505],\n",
       "       [100.        , 200.        ]])"
      ]
     },
     "execution_count": 29,
     "metadata": {},
     "output_type": "execute_result"
    }
   ],
   "source": []
  },
  {
   "cell_type": "code",
   "execution_count": null,
   "metadata": {},
   "outputs": [],
   "source": []
  }
 ],
 "metadata": {
  "kernelspec": {
   "display_name": "Python 3",
   "language": "python",
   "name": "python3"
  },
  "language_info": {
   "codemirror_mode": {
    "name": "ipython",
    "version": 3
   },
   "file_extension": ".py",
   "mimetype": "text/x-python",
   "name": "python",
   "nbconvert_exporter": "python",
   "pygments_lexer": "ipython3",
   "version": "3.8.3"
  }
 },
 "nbformat": 4,
 "nbformat_minor": 4
}
