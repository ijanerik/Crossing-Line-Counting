{
 "cells": [
  {
   "cell_type": "code",
   "execution_count": 1,
   "metadata": {},
   "outputs": [],
   "source": [
    "import basic_entities as entities\n",
    "from glob import glob\n",
    "import os\n",
    "import scipy.io\n",
    "import os.path"
   ]
  },
  {
   "cell_type": "code",
   "execution_count": 40,
   "metadata": {},
   "outputs": [],
   "source": [
    "def load_video(video_path):\n",
    "    video = entities.BasicVideo(video_path)\n",
    "    for frame_path in glob('{}/*.png'.format(video_path)):\n",
    "        \n",
    "        video.add_frame(entities.BasicFrame(frame_path))\n",
    "        \n",
    "    frames = video.get_frames()\n",
    "    pairs = video.get_frame_pairs()\n",
    "    \n",
    "    gt_path = os.path.splitext(video_path.replace('images', 'gt'))[0]\n",
    "    person_mat_path = '{}_people_full.mat'.format(gt_path)\n",
    "    \n",
    "    if not os.path.isfile(person_mat_path):\n",
    "        return video\n",
    "        \n",
    "    mat = scipy.io.loadmat(person_mat_path)\n",
    "    \n",
    "    # Add persons to frames\n",
    "    for idx, person in enumerate(mat['people'][0]):\n",
    "        point_list = person[0][0][0]\n",
    "        for i, coordinates in enumerate(point_list):\n",
    "            frames[int(coordinates[2])-1].add_point(int(coordinates[0]), int(coordinates[1]))\n",
    "            \n",
    "            # If two consequative frames have the same person add the tracked person in the pair\n",
    "            if i+1 < len(point_list) and int(point_list[i+1][2]) == int(coordinates[2]) + 1:\n",
    "                frame1_id = len(frames[int(coordinates[2])-1].get_centers())-1\n",
    "                frame2_id = len(frames[int(coordinates[2])].get_centers())-1\n",
    "                \n",
    "                pairs[int(coordinates[2])-1].add_point_pair(frame1_id, frame2_id)\n",
    "    \n",
    "    video.labeled = True\n",
    "    return video"
   ]
  },
  {
   "cell_type": "code",
   "execution_count": 42,
   "metadata": {},
   "outputs": [],
   "source": [
    "videos = glob('../data/ucsdpeds/images/vidf/*')\n",
    "for video in videos:\n",
    "    load_video(video)"
   ]
  },
  {
   "cell_type": "code",
   "execution_count": null,
   "metadata": {},
   "outputs": [],
   "source": []
  },
  {
   "cell_type": "code",
   "execution_count": null,
   "metadata": {},
   "outputs": [],
   "source": []
  }
 ],
 "metadata": {
  "kernelspec": {
   "display_name": "Python 2",
   "language": "python",
   "name": "python2"
  },
  "language_info": {
   "codemirror_mode": {
    "name": "ipython",
    "version": 2
   },
   "file_extension": ".py",
   "mimetype": "text/x-python",
   "name": "python",
   "nbconvert_exporter": "python",
   "pygments_lexer": "ipython2",
   "version": "2.7.15+"
  }
 },
 "nbformat": 4,
 "nbformat_minor": 2
}
