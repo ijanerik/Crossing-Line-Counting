{
 "cells": [
  {
   "cell_type": "code",
   "execution_count": null,
   "metadata": {},
   "outputs": [],
   "source": [
    "import basic_entities as entities\n",
    "from glob import glob\n",
    "import os\n",
    "import scipy.io\n",
    "import os.path"
   ]
  },
  {
   "cell_type": "code",
   "execution_count": null,
   "metadata": {},
   "outputs": [],
   "source": [
    "def load_all_videos(videos_path):\n",
    "    frames = glob(os.path.join(videos_path, '*.jpeg'))\n",
    "    frames.sort()\n",
    "\n",
    "    videos = {}\n",
    "    explode_frame = re.compile(\"(.*)\\/([_0-9]*)_([0-9]*)\\.jpeg\", re.IGNORECASE)\n",
    "    \n",
    "    for frame_path in frames:\n",
    "        exploded_frame = explode_frame.match(frame_path)\n",
    "        \n",
    "        frame_obj = entities.BasicFrame(frame_path)\n",
    "        \n",
    "        video_name = exploded_frame.group(2)\n",
    "        if video_name not in videos:\n",
    "            videos[video_name] = entities.BasicVideo(videos_path)\n",
    "        \n",
    "        videos[video_name].add_frame(frame_obj)\n",
    "    \n",
    "    return videos"
   ]
  },
  {
   "cell_type": "code",
   "execution_count": null,
   "metadata": {},
   "outputs": [],
   "source": [
    "load_all_videos('../data/ArenaPeds/smaller_train_images')"
   ]
  },
  {
   "cell_type": "code",
   "execution_count": null,
   "metadata": {},
   "outputs": [],
   "source": []
  },
  {
   "cell_type": "code",
   "execution_count": null,
   "metadata": {},
   "outputs": [],
   "source": [
    "# import os\n",
    "# import re\n",
    "# all_updatable_frames = glob('../data/ArenaPeds/*/*.jpeg')\n",
    "\n",
    "# prog = re.compile(\"(.*)\\/([_0-9]*)_([0-9]*)\\.jpeg\", re.IGNORECASE)\n",
    "# for file_name in all_updatable_frames:\n",
    "#     result = prog.match(file_name)\n",
    "#     if not result:\n",
    "#         print(\"Error\")\n",
    "#         print(file_name)\n",
    "#         break\n",
    "    \n",
    "#     new_name = '{}/{}_{:05d}.jpeg'.format(result.group(1), result.group(2), int(result.group(3)))\n",
    "#     os.rename(file_name, new_name)"
   ]
  },
  {
   "cell_type": "code",
   "execution_count": null,
   "metadata": {},
   "outputs": [],
   "source": []
  }
 ],
 "metadata": {
  "kernelspec": {
   "display_name": "Python 2",
   "language": "python",
   "name": "python2"
  },
  "language_info": {
   "codemirror_mode": {
    "name": "ipython",
    "version": 2
   },
   "file_extension": ".py",
   "mimetype": "text/x-python",
   "name": "python",
   "nbconvert_exporter": "python",
   "pygments_lexer": "ipython2",
   "version": "2.7.17"
  }
 },
 "nbformat": 4,
 "nbformat_minor": 2
}
