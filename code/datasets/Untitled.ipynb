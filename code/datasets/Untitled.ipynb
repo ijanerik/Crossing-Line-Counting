{
 "cells": [
  {
   "cell_type": "code",
   "execution_count": 1,
   "metadata": {},
   "outputs": [],
   "source": [
    "# from IPython.display import display\n",
    "# from PIL import Image, ImageDraw"
   ]
  },
  {
   "cell_type": "code",
   "execution_count": 2,
   "metadata": {},
   "outputs": [],
   "source": [
    "import basic_entities\n",
    "from glob import glob\n",
    "import scipy.io"
   ]
  },
  {
   "cell_type": "code",
   "execution_count": 3,
   "metadata": {},
   "outputs": [],
   "source": [
    "# frames = glob('../data/ucsdpeds/images/vidf/vidf1_*/*')\n",
    "# frames.sort()\n",
    "# len(frames)"
   ]
  },
  {
   "cell_type": "code",
   "execution_count": 4,
   "metadata": {},
   "outputs": [],
   "source": [
    "# frames_orig = glob('../data/ucsdpeds/orig_images/out_*.png')\n",
    "# frames_orig.sort()\n",
    "# len(frames_orig)"
   ]
  },
  {
   "cell_type": "code",
   "execution_count": 5,
   "metadata": {},
   "outputs": [],
   "source": [
    "# mat = scipy.io.loadmat('../data/ucsdpeds/line_crossing/lineInfo.mat')\n",
    "# for i in mat['lineInfo'][0][0]:\n",
    "#     print(i)"
   ]
  },
  {
   "cell_type": "code",
   "execution_count": 6,
   "metadata": {},
   "outputs": [],
   "source": [
    "# factor = Image.open(frames_orig[0]).size[0] / (Image.open(frames[0]).size[0])\n",
    "# print(factor)"
   ]
  },
  {
   "cell_type": "code",
   "execution_count": 7,
   "metadata": {},
   "outputs": [],
   "source": [
    "# mat = scipy.io.loadmat('../data/ucsdpeds/line_crossing/cgt_s_all.mat')\n",
    "# left_cross = mat['cgt_s_all'][0][0][0] # Left\n",
    "# right_cross = mat['cgt_s_all'][0][1][0] # Right"
   ]
  },
  {
   "cell_type": "code",
   "execution_count": 8,
   "metadata": {},
   "outputs": [],
   "source": [
    "# for i, v in enumerate(mat['cgt_s_all'][0][0][0]):\n",
    "#     if v > 0:\n",
    "#         img = Image.open(frames_orig[i])\n",
    "#         draw = ImageDraw.Draw(img) 3 \n",
    "#         draw.line((100*factor,1*factor, 100*factor,158*factor), fill=255, width=5)\n",
    "#         display(img)\n",
    "#         break"
   ]
  },
  {
   "cell_type": "code",
   "execution_count": null,
   "metadata": {},
   "outputs": [],
   "source": []
  },
  {
   "cell_type": "code",
   "execution_count": 9,
   "metadata": {},
   "outputs": [],
   "source": [
    "# path = '../data/ucsdpeds'\n",
    "# small_videos = glob('{}/images/vidf/vidf1_*/'.format(path))\n",
    "# small_videos.sort()\n",
    "# small_videos\n",
    "\n",
    "# location_mats = glob('{}/gt/vidf/vidf1_33_*_frame_full.mat'.format(path))\n",
    "# location_mats.sort()\n",
    "\n",
    "# frames_orig = glob('{}/orig_images/out_*.png'.format(path))\n",
    "# frames_orig.sort()\n",
    "\n",
    "# all_small_frames = glob('{}/images/vidf/vidf1_*/*'.format(path))\n",
    "# all_small_frames.sort()"
   ]
  },
  {
   "cell_type": "code",
   "execution_count": 15,
   "metadata": {},
   "outputs": [],
   "source": [
    "import scipy.io\n",
    "import basic_entities\n",
    "from glob import glob\n",
    "\n",
    "def get_point_locations_mat(path, factor=3.0252):\n",
    "    mat = scipy.io.loadmat(path)\n",
    "    frames = []\n",
    "    for i, frame in enumerate(mat['fgt'][0][0][0][0]):\n",
    "        frame_ret = []\n",
    "        dots = frame[0][0][0] # (X, Y, 1)\n",
    "        for dot in dots:\n",
    "            x = dot[0] * factor\n",
    "            y = dot[1] * factor\n",
    "            frame_ret.append([x, y])\n",
    "        \n",
    "        frames.append(frame_ret)\n",
    "    return frames\n",
    "\n",
    "def load_videos(path, factor=3.0252):\n",
    "    mat = scipy.io.loadmat('{}/line_crossing/cgt_s_all.mat'.format(path))\n",
    "    left_cross = mat['cgt_s_all'][0][0][0] # Left\n",
    "    right_cross = mat['cgt_s_all'][0][1][0] # Right\n",
    "    \n",
    "    small_videos = glob('{}/images/vidf/vidf1_*/'.format(path))\n",
    "    small_videos.sort()\n",
    "    small_videos\n",
    "\n",
    "    location_mats = glob('{}/gt/vidf/vidf1_33_*_frame_full.mat'.format(path))\n",
    "    location_mats.sort()\n",
    "\n",
    "    frames_orig = glob('{}/orig_images/out_*.png'.format(path))\n",
    "    frames_orig.sort()\n",
    "\n",
    "    all_small_frames = glob('{}/images/vidf/vidf1_*/*'.format(path))\n",
    "    all_small_frames.sort()\n",
    "    \n",
    "    videos = []\n",
    "    \n",
    "    for small_video, location_mat in zip(small_videos, location_mats):\n",
    "        points = get_point_locations_mat(location_mat, factor)\n",
    "        small_frames = glob('{}*.png'.format(small_video))\n",
    "        small_frames.sort()\n",
    "\n",
    "        first_frame_id = all_small_frames.index(small_frames[0])\n",
    "        last_frame_id = all_small_frames.index(small_frames[-1])\n",
    "\n",
    "        video = basic_entities.BasicVideo('{}_{}'.format(first_frame_id, last_frame_id))\n",
    "\n",
    "        if first_frame_id < 2000:\n",
    "            line = basic_entities.BasicLineSample(small_video, (100*factor,1*factor), (100*factor,158*factor))\n",
    "            line.set_crossed(sum(left_cross[first_frame_id:last_frame_id+1]),\n",
    "                            sum(right_cross[first_frame_id:last_frame_id+1]))\n",
    "            video.add_line(line)\n",
    "\n",
    "        for dots, s_frame in zip(points, small_frames):\n",
    "            o_frame = frames_orig[all_small_frames.index(s_frame)]\n",
    "            frame = basic_entities.BasicFrame(o_frame)\n",
    "            for dot in dots:\n",
    "                frame.add_point(dot)\n",
    "\n",
    "            video.add_frame(frame)\n",
    "            \n",
    "        videos.append(video)\n",
    "\n",
    "    return videos"
   ]
  },
  {
   "cell_type": "code",
   "execution_count": 16,
   "metadata": {},
   "outputs": [],
   "source": [
    "# for small_video, location_mat in zip(small_videos, location_mats):\n",
    "#     points = get_point_locations_mat(location_mat)\n",
    "#     small_frames = glob('{}*.png'.format(small_video))\n",
    "#     small_frames.sort()\n",
    "    \n",
    "#     first_frame_id = all_small_frames.index(small_frames[0])\n",
    "#     last_frame_id = all_small_frames.index(small_frames[-1])\n",
    "        \n",
    "#     video = basic_entities.BasicVideo(small_video)\n",
    "    \n",
    "#     if first_frame_id < 2000:\n",
    "#         line = basic_entities.BasicLineSample(small_video, (100*factor,1*factor), (100*factor,158*factor))\n",
    "#         line.set_crossed(sum(left_cross[first_frame_id:last_frame_id+1]),\n",
    "#                         sum(right_cross[first_frame_id:last_frame_id+1]))\n",
    "#         video.add_line(line)\n",
    "    \n",
    "#     for dots, s_frame in zip(points, small_frames):\n",
    "#         o_frame = frames_orig[all_small_frames.index(s_frame)]\n",
    "#         frame = basic_entities.BasicFrame(o_frame)\n",
    "#         for dot in dots:\n",
    "#             frame.add_point(dot)\n",
    "        \n",
    "#         video.add_frame(frame)\n",
    "        \n",
    "#     if len(video.get_lines()) > 0:\n",
    "#         print(video.get_lines()[0].get_crossed())"
   ]
  },
  {
   "cell_type": "code",
   "execution_count": 17,
   "metadata": {},
   "outputs": [],
   "source": [
    "videos = load_videos('../data/ucsdpeds')"
   ]
  },
  {
   "cell_type": "code",
   "execution_count": 23,
   "metadata": {},
   "outputs": [
    {
     "name": "stdout",
     "output_type": "stream",
     "text": [
      "0 0_199\n",
      "1 200_399\n",
      "2 400_599\n",
      "3 600_799\n",
      "4 800_999\n",
      "5 1000_1199\n",
      "6 1200_1399\n",
      "7 1400_1599\n",
      "8 1600_1799\n",
      "9 1800_1999\n",
      "10 2000_2199\n",
      "11 2200_2399\n",
      "12 2400_2599\n",
      "13 2600_2799\n",
      "14 2800_2999\n",
      "15 3000_3199\n",
      "16 3200_3399\n",
      "17 3401_3600\n",
      "18 3601_3800\n",
      "19 3801_4000\n"
     ]
    }
   ],
   "source": [
    "for i, video in enumerate(videos):\n",
    "    print(i, video.get_path())"
   ]
  },
  {
   "cell_type": "code",
   "execution_count": null,
   "metadata": {},
   "outputs": [],
   "source": []
  }
 ],
 "metadata": {
  "kernelspec": {
   "display_name": "Python 3",
   "language": "python",
   "name": "python3"
  },
  "language_info": {
   "codemirror_mode": {
    "name": "ipython",
    "version": 3
   },
   "file_extension": ".py",
   "mimetype": "text/x-python",
   "name": "python",
   "nbconvert_exporter": "python",
   "pygments_lexer": "ipython3",
   "version": "3.8.3"
  }
 },
 "nbformat": 4,
 "nbformat_minor": 4
}
