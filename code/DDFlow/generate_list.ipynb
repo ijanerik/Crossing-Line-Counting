{
 "cells": [
  {
   "cell_type": "code",
   "execution_count": 1,
   "metadata": {},
   "outputs": [],
   "source": [
    "# Add base path to import dir for importing datasets\n",
    "import os,sys,inspect\n",
    "import random\n",
    "currentdir = os.path.dirname(os.path.abspath(inspect.getfile(inspect.currentframe())))\n",
    "parentdir = os.path.dirname(currentdir)\n",
    "sys.path.insert(0,parentdir)\n",
    "\n",
    "from datasets import fudan"
   ]
  },
  {
   "cell_type": "code",
   "execution_count": 2,
   "metadata": {},
   "outputs": [],
   "source": [
    "def write_to_ddflow(filename, pairs):\n",
    "    f = open(filename, \"w\")\n",
    "    for i, pair in enumerate(pairs):\n",
    "        frames = pair.get_frames()\n",
    "        f.write(\"{} {} {:06d}\\n\".format(frames[0].get_image_path()[len(path)+1:],\n",
    "                                  frames[1].get_image_path()[len(path)+1:],\n",
    "                                  i\n",
    "                                 )\n",
    "               )\n",
    "    f.close()"
   ]
  },
  {
   "cell_type": "code",
   "execution_count": 3,
   "metadata": {},
   "outputs": [],
   "source": [
    "path = '../data/Fudan/train_data'\n",
    "frame_pairs = fudan.load_all_frame_pairs(path)\n",
    "random.shuffle(frame_pairs)\n",
    "write_to_ddflow(\"fudan_train.txt\", frame_pairs[0:4000])"
   ]
  },
  {
   "cell_type": "code",
   "execution_count": null,
   "metadata": {},
   "outputs": [],
   "source": []
  }
 ],
 "metadata": {
  "kernelspec": {
   "display_name": "Python 2",
   "language": "python",
   "name": "python2"
  },
  "language_info": {
   "codemirror_mode": {
    "name": "ipython",
    "version": 2
   },
   "file_extension": ".py",
   "mimetype": "text/x-python",
   "name": "python",
   "nbconvert_exporter": "python",
   "pygments_lexer": "ipython2",
   "version": "2.7.15+"
  }
 },
 "nbformat": 4,
 "nbformat_minor": 2
}
