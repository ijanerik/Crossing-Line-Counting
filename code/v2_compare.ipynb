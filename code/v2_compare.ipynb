{
 "cells": [
  {
   "cell_type": "code",
   "execution_count": 28,
   "metadata": {},
   "outputs": [],
   "source": [
    "import pandas as pd\n",
    "from glob import glob\n",
    "import re\n",
    "import math\n",
    "import numpy as np\n"
   ]
  },
  {
   "cell_type": "code",
   "execution_count": 29,
   "metadata": {},
   "outputs": [
    {
     "name": "stdout",
     "output_type": "stream",
     "text": [
      "3101.897598659889 5.914963958263216\n",
      "3421.406988321398 6.185601273030144\n",
      "3173.160693457393 6.028132661056163\n"
     ]
    }
   ],
   "source": [
    "def load_data(path):\n",
    "    data = pd.read_csv(path, names=['name1', 'name2', 'lr_pred', 'rl_pred', 'lr_true', 'rl_true']) \n",
    "    data['off'] = abs(data['rl_true']-data['rl_pred']) + abs(data['lr_true']-data['lr_pred'])\n",
    "    data['off_sqrt'] = data['off'].pow(2)\n",
    "    data['total'] = data['rl_true'] + data['lr_true']\n",
    "    data['perc_off'] = data['off']/data['total']\n",
    "    return data\n",
    "\n",
    "data = load_data('results/default_tensorflow/results.txt')\n",
    "print(data['off_sqrt'].sum(), data['off'].mean())\n",
    "\n",
    "data = load_data('results/default_pytorch_finetuned/results.txt')\n",
    "print(data['off_sqrt'].sum(), data['off'].mean())\n",
    "\n",
    "data = load_data('results/new_regions/results.txt')\n",
    "data.groupby(['name1'])['off_sqrt'].sum()\n",
    "print(data['off_sqrt'].sum(), data['off'].mean())"
   ]
  },
  {
   "cell_type": "code",
   "execution_count": 33,
   "metadata": {},
   "outputs": [
    {
     "name": "stdout",
     "output_type": "stream",
     "text": [
      "3421.406988321398 6.185601273030144\n",
      "3378.4902822989616 6.395156649836427\n",
      "3516.100119029775 6.541746753791165\n",
      "3681.4318410541446 6.827038548747692\n",
      "4940.848977079424 8.076427939432852\n"
     ]
    }
   ],
   "source": [
    "data = load_data('results/default_pytorch_finetuned/results.txt')\n",
    "print(data['off_sqrt'].sum(), data['off'].mean())\n",
    "\n",
    "data = load_data('results/cropped_results_huge/results.txt')\n",
    "print(data['off_sqrt'].sum(), data['off'].mean())\n",
    "\n",
    "data = load_data('results/cropped_results_big/results.txt')\n",
    "print(data['off_sqrt'].sum(), data['off'].mean())\n",
    "\n",
    "data = load_data('results/cropped_results/results.txt')\n",
    "print(data['off_sqrt'].sum(), data['off'].mean())\n",
    "\n",
    "data = load_data('results/cropped_results_small/results.txt')\n",
    "print(data['off_sqrt'].sum(), data['off'].mean())"
   ]
  },
  {
   "cell_type": "code",
   "execution_count": null,
   "metadata": {
    "scrolled": false
   },
   "outputs": [],
   "source": []
  },
  {
   "cell_type": "code",
   "execution_count": null,
   "metadata": {},
   "outputs": [],
   "source": []
  },
  {
   "cell_type": "code",
   "execution_count": null,
   "metadata": {},
   "outputs": [],
   "source": []
  },
  {
   "cell_type": "code",
   "execution_count": null,
   "metadata": {},
   "outputs": [],
   "source": []
  }
 ],
 "metadata": {
  "kernelspec": {
   "display_name": "Python 3",
   "language": "python",
   "name": "python3"
  },
  "language_info": {
   "codemirror_mode": {
    "name": "ipython",
    "version": 3
   },
   "file_extension": ".py",
   "mimetype": "text/x-python",
   "name": "python",
   "nbconvert_exporter": "python",
   "pygments_lexer": "ipython3",
   "version": "3.8.3"
  }
 },
 "nbformat": 4,
 "nbformat_minor": 2
}
