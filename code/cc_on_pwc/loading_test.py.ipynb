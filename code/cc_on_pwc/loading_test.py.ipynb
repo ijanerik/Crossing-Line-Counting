{
 "cells": [
  {
   "cell_type": "code",
   "execution_count": 21,
   "metadata": {},
   "outputs": [],
   "source": [
    "import argparse\n",
    "import time\n",
    "import math\n",
    "import random\n",
    "from datetime import datetime\n",
    "from torch.utils.tensorboard import SummaryWriter\n",
    "\n",
    "import torch\n",
    "import torch.nn as nn\n",
    "import torch.nn.functional as F\n",
    "import torch.optim as optim\n",
    "from torchvision.utils import save_image\n",
    "\n",
    "from model import DRNetModel\n",
    "from dataset import BasicDataset\n",
    "\n",
    "from pathlib import Path\n",
    "import utils\n",
    "\n",
    "# Add base path to import dir for importing datasets\n",
    "import os, sys, inspect\n",
    "\n",
    "currentdir = os.path.dirname(os.path.abspath(inspect.getfile(inspect.currentframe())))\n",
    "parentdir = os.path.dirname(currentdir)\n",
    "sys.path.insert(0, parentdir)\n",
    "from datasets import tub, shanghaitech\n",
    "import cv2"
   ]
  },
  {
   "cell_type": "code",
   "execution_count": 2,
   "metadata": {},
   "outputs": [],
   "source": [
    "val_frames = shanghaitech.load_all_frames('../data/ShanghaiTech/part_A_final/test_data', load_labeling=False)"
   ]
  },
  {
   "cell_type": "code",
   "execution_count": 4,
   "metadata": {},
   "outputs": [],
   "source": [
    "dataset = BasicDataset(val_frames, 'flex', 64, False)"
   ]
  },
  {
   "cell_type": "code",
   "execution_count": 37,
   "metadata": {},
   "outputs": [],
   "source": [
    "import numpy as np"
   ]
  },
  {
   "cell_type": "code",
   "execution_count": 62,
   "metadata": {},
   "outputs": [],
   "source": [
    "total = []\n",
    "\n",
    "for frame in val_frames:\n",
    "    density_np = frame.get_density('flex')\n",
    "    s = density_np.shape\n",
    "    \n",
    "    cv_dense = cv2.resize(density_np, (int(s[1] / 8), int(s[0] / 8)), interpolation=cv2.INTER_CUBIC) * 64\n",
    "    \n",
    "    torch_dense = torch.FloatTensor(density_np)\n",
    "    torch_dense.unsqueeze_(0)\n",
    "    torch_dense.unsqueeze_(0)\n",
    "    torch_dense = F.interpolate(input=torch_dense,\n",
    "                                     size=(int(s[0] / 8), int(s[1] / 8)),\n",
    "                                     mode='bilinear', align_corners=True) * 64\n",
    "    torch_dense.squeeze_()\n",
    "    torch_dense = torch_dense.numpy()\n",
    "\n",
    "    total.append(abs(torch_dense.max()-cv_dense.max()))"
   ]
  },
  {
   "cell_type": "code",
   "execution_count": 63,
   "metadata": {},
   "outputs": [
    {
     "data": {
      "text/plain": [
       "103.59787707030773"
      ]
     },
     "execution_count": 63,
     "metadata": {},
     "output_type": "execute_result"
    }
   ],
   "source": [
    "sum(total)"
   ]
  },
  {
   "cell_type": "code",
   "execution_count": 53,
   "metadata": {},
   "outputs": [
    {
     "name": "stdout",
     "output_type": "stream",
     "text": [
      "torch.Size([60, 80])\n",
      "(60, 80)\n"
     ]
    }
   ],
   "source": [
    "torch_dense = torch.FloatTensor(density_np)\n",
    "torch_dense.unsqueeze_(0)\n",
    "torch_dense.unsqueeze_(0)\n",
    "torch_dense = F.interpolate(input=torch_dense,\n",
    "                                 size=(int(s[0] / 8), int(s[1] / 8)),\n",
    "                                 mode='bilinear', align_corners=False) * 64\n",
    "torch_dense.squeeze_()\n",
    "save_image(torch_dense, 'test.png')\n",
    "print(torch_dense.shape)\n",
    "torch_dense = torch_dense.numpy()\n",
    "print(torch_dense.shape)"
   ]
  },
  {
   "cell_type": "code",
   "execution_count": 43,
   "metadata": {},
   "outputs": [
    {
     "name": "stdout",
     "output_type": "stream",
     "text": [
      "0.10579192\n"
     ]
    }
   ],
   "source": [
    "print(np.sum(cv_dense-torch_dense))"
   ]
  },
  {
   "cell_type": "code",
   "execution_count": null,
   "metadata": {},
   "outputs": [],
   "source": []
  }
 ],
 "metadata": {
  "kernelspec": {
   "display_name": "Python 3",
   "language": "python",
   "name": "python3"
  },
  "language_info": {
   "codemirror_mode": {
    "name": "ipython",
    "version": 3
   },
   "file_extension": ".py",
   "mimetype": "text/x-python",
   "name": "python",
   "nbconvert_exporter": "python",
   "pygments_lexer": "ipython3",
   "version": "3.8.3"
  }
 },
 "nbformat": 4,
 "nbformat_minor": 2
}
