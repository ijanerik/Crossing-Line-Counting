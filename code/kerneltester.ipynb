{
 "cells": [
  {
   "cell_type": "code",
   "execution_count": 1,
   "metadata": {},
   "outputs": [],
   "source": [
    "from IPython.display import display\n",
    "from PIL import Image\n",
    "import numpy as np\n",
    "import torch\n",
    "import math\n",
    "import datetime\n",
    "\n",
    "def show_tensor(data):\n",
    "    img = data.clone()\n",
    "    img = img.type(torch.uint8).numpy()[0][0]\n",
    "    img = Image.fromarray(img, 'L')\n",
    "    display(img)\n",
    "\n",
    "class sTimer():\n",
    "    def __init__(self, name):\n",
    "        self.start = datetime.datetime.now()\n",
    "        self.name = name\n",
    "\n",
    "    def show(self, printer=True):\n",
    "        ms = int((datetime.datetime.now() - self.start).total_seconds() * 1000)\n",
    "        if printer:\n",
    "            print(\"{}: {}ms\".format(self.name, ms))\n",
    "            \n",
    "        return ms"
   ]
  },
  {
   "cell_type": "code",
   "execution_count": 2,
   "metadata": {},
   "outputs": [
    {
     "data": {
      "image/png": "[encoded data removed]",
      "text/plain": [
       "<PIL.Image.Image image mode=L size=500x200 at 0x7EFD384E3310>"
      ]
     },
     "metadata": {},
     "output_type": "display_data"
    }
   ],
   "source": [
    "data = torch.zeros((1, 2, 200, 500), dtype=torch.float)\n",
    "\n",
    "data[:, :, 100, 100] = 255\n",
    "data[:, :, 110, 110] = 200\n",
    "data[:, :, 100, 120] = 155\n",
    "show_tensor(data)"
   ]
  },
  {
   "cell_type": "code",
   "execution_count": 3,
   "metadata": {},
   "outputs": [
    {
     "name": "stdout",
     "output_type": "stream",
     "text": [
      "torch.Size([200, 500]) torch.Size([45, 200, 500]) torch.Size([2, 45, 200, 500])\n",
      "torch.Size([200, 500]) torch.Size([45, 200, 500]) torch.Size([2, 45, 200, 500])\n",
      "torch.Size([200, 500]) torch.Size([45, 200, 500]) torch.Size([2, 45, 200, 500])\n",
      "torch.Size([200, 500]) torch.Size([45, 200, 500]) torch.Size([2, 45, 200, 500])\n",
      "Maxing: 1154ms\n"
     ]
    },
    {
     "data": {
      "text/plain": [
       "1154"
      ]
     },
     "execution_count": 3,
     "metadata": {},
     "output_type": "execute_result"
    }
   ],
   "source": [
    "\n",
    "\n",
    "def get_max_surrounding(data, kernel_size=3, only_under=True, smaller_sides=True):\n",
    "    lines_skip = math.floor(kernel_size / 2)\n",
    "\n",
    "    if only_under == True:\n",
    "        out_channels = np.eye(kernel_size * kernel_size)[lines_skip*kernel_size:]\n",
    "        if smaller_sides:\n",
    "            for i in range(math.floor((kernel_size-1)/4)):\n",
    "                out_channels[list(range(i, len(out_channels), kernel_size))] = False\n",
    "                out_channels[list(range(kernel_size-i-1, len(out_channels), kernel_size))] = False\n",
    "    else:\n",
    "        out_channels = np.eye(kernel_size * kernel_size)\n",
    "        \n",
    "    w = out_channels.reshape((out_channels.shape[0], 1, kernel_size, kernel_size))\n",
    "    w = torch.tensor(w, dtype=torch.float).cuda()\n",
    "    \n",
    "    data = data.transpose(0,1).cuda()\n",
    "    \n",
    "    patches = torch.nn.functional.conv2d(data, w, padding=(lines_skip, lines_skip))\n",
    "    speed = torch.sqrt(torch.sum(torch.pow(patches, 2), axis=0))\n",
    "    max_speeds = torch.argmax(speed, axis=0)\n",
    "    flat_max_speeds = max_speeds.reshape(data.shape[2]*data.shape[3])\n",
    "    print(max_speeds.shape, speed.shape, patches.shape)\n",
    "    \n",
    "    y_axis = torch.arange(data.shape[2]).repeat_interleave(data.shape[3])\n",
    "    x_axis = torch.arange(data.shape[3]).repeat(data.shape[2])\n",
    "    \n",
    "    output = patches[:, flat_max_speeds, y_axis, x_axis]\n",
    "    output = output.reshape(1, 2, data.shape[2], data.shape[3])\n",
    "    return output\n",
    "\n",
    "t = sTimer('Maxing')\n",
    "new_data = get_max_surrounding(data, kernel_size=9)\n",
    "new_data = get_max_surrounding(new_data, kernel_size=9)\n",
    "new_data = get_max_surrounding(new_data, kernel_size=9)\n",
    "new_data = get_max_surrounding(new_data, kernel_size=9)\n",
    "t.show()"
   ]
  },
  {
   "cell_type": "code",
   "execution_count": 4,
   "metadata": {},
   "outputs": [
    {
     "data": {
      "image/png": "[encoded data removed]",
      "text/plain": [
       "<PIL.Image.Image image mode=L size=500x200 at 0x7EFCC40FFD00>"
      ]
     },
     "metadata": {},
     "output_type": "display_data"
    }
   ],
   "source": [
    "show_tensor(new_data.cpu())"
   ]
  },
  {
   "cell_type": "code",
   "execution_count": null,
   "metadata": {},
   "outputs": [],
   "source": []
  }
 ],
 "metadata": {
  "kernelspec": {
   "display_name": "Python 3",
   "language": "python",
   "name": "python3"
  },
  "language_info": {
   "codemirror_mode": {
    "name": "ipython",
    "version": 3
   },
   "file_extension": ".py",
   "mimetype": "text/x-python",
   "name": "python",
   "nbconvert_exporter": "python",
   "pygments_lexer": "ipython3",
   "version": "3.8.3"
  }
 },
 "nbformat": 4,
 "nbformat_minor": 4
}
