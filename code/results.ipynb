{
 "cells": [
  {
   "cell_type": "code",
   "execution_count": 3,
   "metadata": {},
   "outputs": [],
   "source": [
    "import pandas as pd"
   ]
  },
  {
   "cell_type": "code",
   "execution_count": 7,
   "metadata": {},
   "outputs": [
    {
     "data": {
      "text/html": [
       "<div>\n",
       "<style scoped>\n",
       "    .dataframe tbody tr th:only-of-type {\n",
       "        vertical-align: middle;\n",
       "    }\n",
       "\n",
       "    .dataframe tbody tr th {\n",
       "        vertical-align: top;\n",
       "    }\n",
       "\n",
       "    .dataframe thead th {\n",
       "        text-align: right;\n",
       "    }\n",
       "</style>\n",
       "<table border=\"1\" class=\"dataframe\">\n",
       "  <thead>\n",
       "    <tr style=\"text-align: right;\">\n",
       "      <th></th>\n",
       "      <th>name1</th>\n",
       "      <th>name2</th>\n",
       "      <th>lr_pred</th>\n",
       "      <th>rl_pred</th>\n",
       "      <th>lr_true</th>\n",
       "      <th>rl_true</th>\n",
       "    </tr>\n",
       "  </thead>\n",
       "  <tbody>\n",
       "    <tr>\n",
       "      <th>0</th>\n",
       "      <td>IM05</td>\n",
       "      <td>1</td>\n",
       "      <td>0.001541</td>\n",
       "      <td>26.413189</td>\n",
       "      <td>0.0</td>\n",
       "      <td>42.0</td>\n",
       "    </tr>\n",
       "    <tr>\n",
       "      <th>1</th>\n",
       "      <td>IM05</td>\n",
       "      <td>1</td>\n",
       "      <td>0.000943</td>\n",
       "      <td>26.345110</td>\n",
       "      <td>0.0</td>\n",
       "      <td>46.0</td>\n",
       "    </tr>\n",
       "    <tr>\n",
       "      <th>2</th>\n",
       "      <td>IM05</td>\n",
       "      <td>1</td>\n",
       "      <td>0.001462</td>\n",
       "      <td>27.364399</td>\n",
       "      <td>0.0</td>\n",
       "      <td>41.0</td>\n",
       "    </tr>\n",
       "    <tr>\n",
       "      <th>3</th>\n",
       "      <td>IM05</td>\n",
       "      <td>1</td>\n",
       "      <td>0.001480</td>\n",
       "      <td>26.432066</td>\n",
       "      <td>0.0</td>\n",
       "      <td>45.0</td>\n",
       "    </tr>\n",
       "    <tr>\n",
       "      <th>4</th>\n",
       "      <td>IM05</td>\n",
       "      <td>0</td>\n",
       "      <td>0.038143</td>\n",
       "      <td>27.982980</td>\n",
       "      <td>0.0</td>\n",
       "      <td>35.0</td>\n",
       "    </tr>\n",
       "  </tbody>\n",
       "</table>\n",
       "</div>"
      ],
      "text/plain": [
       "  name1  name2   lr_pred    rl_pred  lr_true  rl_true\n",
       "0  IM05      1  0.001541  26.413189      0.0     42.0\n",
       "1  IM05      1  0.000943  26.345110      0.0     46.0\n",
       "2  IM05      1  0.001462  27.364399      0.0     41.0\n",
       "3  IM05      1  0.001480  26.432066      0.0     45.0\n",
       "4  IM05      0  0.038143  27.982980      0.0     35.0"
      ]
     },
     "execution_count": 7,
     "metadata": {},
     "output_type": "execute_result"
    }
   ],
   "source": [
    "data = pd.read_csv(\"results/new_test/results.txt\", names=['name1', 'name2', 'lr_pred', 'rl_pred', 'lr_true', 'rl_true']) \n",
    "data.head()"
   ]
  },
  {
   "cell_type": "code",
   "execution_count": 20,
   "metadata": {},
   "outputs": [],
   "source": [
    "off = abs(data['rl_true']-data['rl_pred']) + abs(data['lr_true']-data['lr_pred'])\n",
    "total = data['rl_true'] + data['lr_true']\n",
    "data['perc_off'] = off/total"
   ]
  },
  {
   "cell_type": "code",
   "execution_count": 28,
   "metadata": {},
   "outputs": [
    {
     "data": {
      "text/plain": [
       "name1  name2\n",
       "IM01   0        0.291684\n",
       "       1        0.252040\n",
       "IM02   0        0.235153\n",
       "       1        0.136145\n",
       "       2        0.332734\n",
       "       3        0.168889\n",
       "IM03   0        0.123300\n",
       "       1        0.255037\n",
       "       2        0.192014\n",
       "IM04   0        0.619266\n",
       "       1        0.473715\n",
       "       2        0.631762\n",
       "       3        0.500239\n",
       "IM05   0        0.192558\n",
       "       1        0.385929\n",
       "       2        0.069341\n",
       "Name: perc_off, dtype: float64"
      ]
     },
     "execution_count": 28,
     "metadata": {},
     "output_type": "execute_result"
    }
   ],
   "source": [
    "data.groupby(['name1','name2'])['perc_off'].mean()"
   ]
  },
  {
   "cell_type": "code",
   "execution_count": 30,
   "metadata": {},
   "outputs": [
    {
     "data": {
      "text/plain": [
       "name1\n",
       "IM01    0.271862\n",
       "IM02    0.218230\n",
       "IM03    0.190117\n",
       "IM04    0.556245\n",
       "IM05    0.215942\n",
       "Name: perc_off, dtype: float64"
      ]
     },
     "execution_count": 30,
     "metadata": {},
     "output_type": "execute_result"
    }
   ],
   "source": [
    "data.groupby(['name1'])['perc_off'].mean()"
   ]
  },
  {
   "cell_type": "code",
   "execution_count": 31,
   "metadata": {},
   "outputs": [
    {
     "data": {
      "text/plain": [
       "0.30535185882494714"
      ]
     },
     "execution_count": 31,
     "metadata": {},
     "output_type": "execute_result"
    }
   ],
   "source": [
    "data['perc_off'].mean()"
   ]
  },
  {
   "cell_type": "code",
   "execution_count": null,
   "metadata": {},
   "outputs": [],
   "source": []
  }
 ],
 "metadata": {
  "kernelspec": {
   "display_name": "Python 3",
   "language": "python",
   "name": "python3"
  },
  "language_info": {
   "codemirror_mode": {
    "name": "ipython",
    "version": 3
   },
   "file_extension": ".py",
   "mimetype": "text/x-python",
   "name": "python",
   "nbconvert_exporter": "python",
   "pygments_lexer": "ipython3",
   "version": "3.6.9"
  }
 },
 "nbformat": 4,
 "nbformat_minor": 2
}
